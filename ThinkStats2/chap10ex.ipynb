{
 "cells": [
  {
   "cell_type": "markdown",
   "metadata": {},
   "source": [
    "Exercise from Think Stats, 2nd Edition (thinkstats2.com)<br>\n",
    "Allen Downey"
   ]
  },
  {
   "cell_type": "code",
   "execution_count": 7,
   "metadata": {
    "collapsed": false
   },
   "outputs": [],
   "source": [
    "%matplotlib inline"
   ]
  },
  {
   "cell_type": "markdown",
   "metadata": {},
   "source": [
    "Using the data from the BRFSS, compute the linear least squares fit for log(weight) versus height. How would you best present the estimated parameters for a model like this where one of the variables is log-transformed? If you were trying to guess someone’s weight, how much would it help to know their height? "
   ]
  },
  {
   "cell_type": "markdown",
   "metadata": {},
   "source": [
    "The code below just imports the dataframe and drops any rows that have NaN in weight or height since we cannot use those records."
   ]
  },
  {
   "cell_type": "code",
   "execution_count": 8,
   "metadata": {
    "collapsed": false
   },
   "outputs": [],
   "source": [
    "import brfss\n",
    "df = brfss.ReadBrfss()\n",
    "df = df.dropna(subset=['wtkg2', 'htm3'])"
   ]
  },
  {
   "cell_type": "markdown",
   "metadata": {},
   "source": [
    "Now that our data is cleaned, the cell below takes the log of the weight and computes the linear least squares fit for height as a function of the log of the weight."
   ]
  },
  {
   "cell_type": "code",
   "execution_count": 36,
   "metadata": {
    "collapsed": false
   },
   "outputs": [
    {
     "name": "stdout",
     "output_type": "stream",
     "text": [
      "Intercept 68.0232589936\n",
      "Slope 23.2493214367\n"
     ]
    }
   ],
   "source": [
    "import numpy as np\n",
    "import thinkstats2\n",
    "\n",
    "xs = np.log(df.wtkg2)\n",
    "ys = df.htm3\n",
    "inter, slope = thinkstats2.LeastSquares(xs, ys)\n",
    "print \"Intercept\", inter\n",
    "print \"Slope\", slope"
   ]
  },
  {
   "cell_type": "markdown",
   "metadata": {},
   "source": [
    "Our results can be interpreted as:\n",
    "\\begin{align}\n",
    "    height &= 23.249 \\times log(weight) + 68.0232\n",
    "\\end{align}"
   ]
  },
  {
   "cell_type": "markdown",
   "metadata": {},
   "source": [
    "In the reading, Allen makes the point that we don't really know what the intercept means. This intercept means that at a weight of 0, the height is 68.0232 units but log(0) is undefined. So instead, below we take the mean of log(weight) and apply our estimated parameters."
   ]
  },
  {
   "cell_type": "code",
   "execution_count": 37,
   "metadata": {
    "collapsed": false
   },
   "outputs": [
    {
     "name": "stdout",
     "output_type": "stream",
     "text": [
      "Mean of log(weight) 4.34132797232\n",
      "Intercept at mean of log(weight) 168.956188484\n",
      "Mean of height 168.956188484\n"
     ]
    }
   ],
   "source": [
    "print 'Mean of log(weight)', np.mean(xs)\n",
    "print 'Intercept at mean of log(weight)', slope*np.mean(xs) + inter\n",
    "print 'Mean of height', np.mean(ys)"
   ]
  },
  {
   "cell_type": "markdown",
   "metadata": {},
   "source": [
    "What we see above is that the intercept at the mean of log(weight) perfectly predicts the height in this dataset. This means our model is accurate close to the mean."
   ]
  },
  {
   "cell_type": "markdown",
   "metadata": {},
   "source": [
    "Now given that one of our variables is log-transformed, we have another way to represent the equation shown above which is:\n",
    "\\begin{align}\n",
    "e^{height} &= e^{23.249} \\times weight + e^{68.0232}\n",
    "\\end{align}\n",
    "\n",
    "We can then use weight instead of the log of weight to calculate $e^{height}$. Below we represent the slope and the intercept when weight is 0 in this way."
   ]
  },
  {
   "cell_type": "code",
   "execution_count": 39,
   "metadata": {
    "collapsed": false
   },
   "outputs": [
    {
     "name": "stdout",
     "output_type": "stream",
     "text": [
      "Slope expressed as exponential of height 12504087610.8\n",
      "Intercept expressed as exponential of height 3.48438408945e+29\n"
     ]
    }
   ],
   "source": [
    "#another way to present the parameters is to exponentiate, gives you: e^height = e^slope * weight + e^b\n",
    "print 'Slope expressed as exponential of height', np.exp(slope)\n",
    "print 'Intercept expressed as exponential of height', np.exp(inter)"
   ]
  },
  {
   "cell_type": "markdown",
   "metadata": {},
   "source": [
    "Given the size of these values and the fact that we have probably lost some accuracy in our estimations, I think it is better to stick with the equation in its original form and use the log of weight."
   ]
  },
  {
   "cell_type": "markdown",
   "metadata": {},
   "source": [
    "In order to determine how much it would help to know a person's height in guessing their weight, I wanted to know how sampling error affects the calculated fit. I used the SamplingDistributions function given in the book and produced the 90% confidence interval for each height. To answer this question, I used height as the explanatory variable and log(weight) as the dependent variable."
   ]
  },
  {
   "cell_type": "code",
   "execution_count": 38,
   "metadata": {
    "collapsed": false
   },
   "outputs": [],
   "source": [
    "def SamplingDistributions(df, iters=101):\n",
    "    t = []\n",
    "    for _ in range(iters):\n",
    "        sample = thinkstats2.ResampleRows(df)\n",
    "        weights = np.log(sample.wtkg2)\n",
    "        heights = sample.htm3\n",
    "        estimates = thinkstats2.LeastSquares(heights, weights)\n",
    "        t.append(estimates)\n",
    "    inters, slopes = zip(*t)\n",
    "    return inters, slopes\n",
    "\n",
    "inters, slopes = SamplingDistributions(df)"
   ]
  },
  {
   "cell_type": "markdown",
   "metadata": {},
   "source": [
    "I then take the calculated intercepts and slopes and use the PlotConfidenceIntervals function. The plot is below and the x-axis is height and the y-axis is log(weight)."
   ]
  },
  {
   "cell_type": "code",
   "execution_count": 40,
   "metadata": {
    "collapsed": false
   },
   "outputs": [
    {
     "data": {
      "image/png": "[encoded data removed]",
      "text/plain": [
       "<matplotlib.figure.Figure at 0x116492d90>"
      ]
     },
     "metadata": {},
     "output_type": "display_data"
    }
   ],
   "source": [
    "import thinkplot\n",
    "\n",
    "def PlotConfidenceIntervals(xs, inters, slopes,\n",
    "                            percent=90, **options):\n",
    "    fys_seq = []\n",
    "    for inter, slope in zip(inters, slopes):\n",
    "        fxs, fys = thinkstats2.FitLine(xs, inter, slope)\n",
    "        fys_seq.append(fys)\n",
    "    p = (100 - percent) / 2\n",
    "    percents = p, 100 - p\n",
    "    low, high = thinkstats2.PercentileRows(fys_seq, percents)\n",
    "    thinkplot.FillBetween(fxs, low, high, **options)\n",
    "    thinkplot.label()\n",
    "\n",
    "\n",
    "PlotConfidenceIntervals(df.htm3, inters, slopes)\n",
    "\n"
   ]
  },
  {
   "cell_type": "markdown",
   "metadata": {},
   "source": [
    "What this plot shows us is that there isn't a lot of variability due to the sampling error. We see that closest to the mean height of 168, there is a lot less variability as the filled polygon is very faint. So for heights close to the mean, we should be accurately able to guess the log(weight). As we move away from the mean, there still isn't a large difference between the 5th and 95th percentiles so we should still be able to reasonably approximate log(weight). We are more likely to be wrong or more inaccurate in our guess the further we get from the mean but having height should give us a small range of weights to guess within."
   ]
  },
  {
   "cell_type": "markdown",
   "metadata": {},
   "source": [
    "## Clarifying Questions\n",
    "\n",
    "Use this space to ask questions regarding the content covered in the reading. These questions should be restricted to helping you better understand the material. For questions that push beyond what is in the reading, use the next answer field. If you don't have a fully formed question, but are generally having a difficult time with a topic, you can indicate that here as well."
   ]
  },
  {
   "cell_type": "markdown",
   "metadata": {},
   "source": [
    "This half chapter took me a long time to get through because I feel I do not have a very strong or intuitive knowledge of statistics. I do not really know how to interpret percentile graphs like the one in the reading and although I've used the code in the book, I am not 100% confident on how the code works and how to interpret the result."
   ]
  },
  {
   "cell_type": "markdown",
   "metadata": {},
   "source": [
    "## Enrichment Questions\n",
    "\n",
    "Use this space to ask any questions that go beyond (but are related to) the material presented in this reading. Perhaps there is a particular topic you'd like to see covered in more depth. Perhaps you'd like to know how to use a library in a way that wasn't show in the reading. One way to think about this is what additional topics would you want covered in the next class (or addressed in a followup e-mail to the class). I'm a little fuzzy on what stuff will likely go here, so we'll see how things evolve."
   ]
  },
  {
   "cell_type": "markdown",
   "metadata": {},
   "source": []
  },
  {
   "cell_type": "markdown",
   "metadata": {},
   "source": [
    "## Additional Resources / Explorations\n",
    "\n",
    "If you found any useful resources, or tried some useful exercises that you'd like to report please do so here. Let us know what you did, what you learned, and how others can replicate it."
   ]
  },
  {
   "cell_type": "markdown",
   "metadata": {},
   "source": []
  }
 ],
 "metadata": {
  "kernelspec": {
   "display_name": "Python 2",
   "language": "python",
   "name": "python2"
  },
  "language_info": {
   "codemirror_mode": {
    "name": "ipython",
    "version": 2
   },
   "file_extension": ".py",
   "mimetype": "text/x-python",
   "name": "python",
   "nbconvert_exporter": "python",
   "pygments_lexer": "ipython2",
   "version": "2.7.11"
  }
 },
 "nbformat": 4,
 "nbformat_minor": 0
}
